{
 "cells": [
  {
   "cell_type": "markdown",
   "id": "7e10d3c7-b784-4bbf-93ec-9895117e5023",
   "metadata": {},
   "source": [
    "## Wavelets Tutorial"
   ]
  },
  {
   "cell_type": "code",
   "execution_count": 8,
   "id": "27fb57d5-ab40-4215-97c5-87c0d3cfdda0",
   "metadata": {},
   "outputs": [],
   "source": [
    "import pywt\n",
    "import matplotlib.pyplot as plt\n",
    "import numpy as np"
   ]
  },
  {
   "cell_type": "markdown",
   "id": "76f16c6f-76ca-44f1-8929-859fa267e4d7",
   "metadata": {},
   "source": [
    "## Fourier Transform"
   ]
  },
  {
   "cell_type": "code",
   "execution_count": null,
   "id": "ff52e6ce-75d4-4476-9230-1b9eb8d28421",
   "metadata": {},
   "outputs": [],
   "source": []
  },
  {
   "cell_type": "markdown",
   "id": "10035c77-5024-48cf-8a98-0e58a1518164",
   "metadata": {},
   "source": [
    "## Windowed Fourier"
   ]
  },
  {
   "cell_type": "code",
   "execution_count": null,
   "id": "ed02e839-3b97-47ac-9115-e7104a5b60c1",
   "metadata": {},
   "outputs": [],
   "source": []
  },
  {
   "cell_type": "markdown",
   "id": "5076778b-8497-4582-a6c1-c8f799a5c6bf",
   "metadata": {},
   "source": [
    "## Wavelets"
   ]
  },
  {
   "cell_type": "markdown",
   "id": "6fb3071d-7420-46b0-a386-524be12ff813",
   "metadata": {},
   "source": [
    "\"A Practical Guide to Wavelet Analysis\" (Torrence and Compo)"
   ]
  },
  {
   "cell_type": "markdown",
   "id": "a34deaed-6c41-45a4-a31f-d60bbdf142f1",
   "metadata": {},
   "source": [
    "Continuous Mother Wavelets\n",
    "- Morlet\n",
    "- Mexican Hat\n",
    "- DOG (Derivative of Gaussian)"
   ]
  },
  {
   "cell_type": "markdown",
   "id": "4b3ab04a-bf08-479c-8163-fb7331b3be31",
   "metadata": {},
   "source": [
    "## Wavelets - PyWavelets"
   ]
  },
  {
   "cell_type": "markdown",
   "id": "3b8103cc-1ac8-4932-a97c-52be8018e992",
   "metadata": {},
   "source": [
    "PyWavelets is an open source Python package for computing wavelet transforms"
   ]
  },
  {
   "cell_type": "code",
   "execution_count": 25,
   "id": "120d76c9-6a54-4eb3-8cfd-4b6b7fa7eca9",
   "metadata": {},
   "outputs": [
    {
     "name": "stdout",
     "output_type": "stream",
     "text": [
      "ContinuousWavelet morl\n",
      "  Family name:    Morlet wavelet\n",
      "  Short name:     morl\n",
      "  Symmetry:       symmetric\n",
      "  DWT:            False\n",
      "  CWT:            True\n",
      "  Complex CWT:    False\n"
     ]
    }
   ],
   "source": [
    "wavelet = pywt.ContinuousWavelet('morl')\n",
    "print(wavelet)\n",
    "#[phi, psi, x] = wavelet.wavefun(level=4)\n",
    "#plt.plot(x, psi)\n",
    "#plt.show()"
   ]
  },
  {
   "cell_type": "code",
   "execution_count": null,
   "id": "2fe6c5c3-dd66-431e-b2f5-04d677f8e657",
   "metadata": {},
   "outputs": [],
   "source": []
  },
  {
   "cell_type": "markdown",
   "id": "71c5ab2e-666f-422c-83ee-e0b74e5c3fa3",
   "metadata": {},
   "source": [
    "PyWavelets is an open source Python package for computing wavelet transforms"
   ]
  }
 ],
 "metadata": {
  "kernelspec": {
   "display_name": "Python 3 (ipykernel)",
   "language": "python",
   "name": "python3"
  },
  "language_info": {
   "codemirror_mode": {
    "name": "ipython",
    "version": 3
   },
   "file_extension": ".py",
   "mimetype": "text/x-python",
   "name": "python",
   "nbconvert_exporter": "python",
   "pygments_lexer": "ipython3",
   "version": "3.11.7"
  }
 },
 "nbformat": 4,
 "nbformat_minor": 5
}
